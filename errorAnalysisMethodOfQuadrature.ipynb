{
 "cells": [
  {
   "cell_type": "code",
   "execution_count": 3,
   "metadata": {},
   "outputs": [
    {
     "name": "stdout",
     "output_type": "stream",
     "text": [
      "Enter the values of V as comma separated values:200,300,400,500,600\n",
      "Enter the values of t as comma separated values:562.2, 844.2,  1135.2, 1419.4, 1714.4\n",
      "[0.5003144343649947, 0.49978105010660984, 0.4955545718816068, 0.49541492003663523, 0.4922015428138124]\n",
      "0.49665330384073175\n",
      "sqrt(0.01*L**2*V**2*rho**2/(P**2*t**4) + 1.0*L**2*rho**2/(P**2*t**2))\n",
      "[0.00250315460001239, 0.00166698841607047, 0.00123965528033956, 0.000991444400829563, 0.000820838139702006]\n",
      "0.00144441616739080\n"
     ]
    }
   ],
   "source": [
    "from numpy import *\n",
    "from sympy import *\n",
    "formula=\"V*rho*L/(P*t)\"#input(\"Enter the equation:\")\n",
    "Results=[]\n",
    "Errors=[]\n",
    "variables=\"V,1;t,0.1\"#input(\"Enter variables in the format:variable_name,error;variable_name,error;...:\")\n",
    "constants=\"rho,0.99567,0;P,1600,0;L,2260,0\"#input(\"Enter the constants with values in the format name,value,error;name,value,error;...\")\n",
    "if(constants!=\"\"):\n",
    "    for i in constants.split(\";\"):\n",
    "        nme=i.split(\",\")[0]\n",
    "        val=i.split(\",\")[1]\n",
    "        er=i.split(\",\")[2]\n",
    "        globals()[\"d\"+nme]=float(er)\n",
    "        globals()[nme]=float(val)\n",
    "for i in variables.split(\";\"):\n",
    "    nme=i.split(\",\")[0]\n",
    "    er=i.split(\",\")[1]\n",
    "    globals()[\"d\"+nme]=float(er)\n",
    "    globals()[nme+\"list\"]=input(\"Enter the values of \"+nme+\" as comma separated values:\")\n",
    "    length=len(globals()[nme+\"list\"].split(\",\"))\n",
    "for j in range(0,length):\n",
    "        for i in variables.split(\";\"):\n",
    "            globals()[i.split(\",\")[0]]=float(globals()[i.split(\",\")[0]+\"list\"].split(\",\")[j])\n",
    "        Results.append(eval(formula))\n",
    "print(Results)\n",
    "print(sum(Results)/len(Results))\n",
    "diffVarList=\"\"\n",
    "for i in variables.split(\";\"):\n",
    "    nme=i.split(\",\")[0]\n",
    "    diffVarList+=nme+\",\"\n",
    "    globals()[nme]=symbols(nme)\n",
    "for i in constants.split(\";\"):\n",
    "    nme=i.split(\",\")[0]\n",
    "    diffVarList+=nme+\",\"\n",
    "    globals()[nme]=symbols(nme)\n",
    "expressionError=0\n",
    "formula=eval(formula)\n",
    "for i in diffVarList.split(\",\"):\n",
    "    if(i!=\"\"):\n",
    "        expressionError+=(formula.diff(globals()[i])*globals()[\"d\"+i])**2\n",
    "expressionError=sqrt(expressionError)\n",
    "print(expressionError)\n",
    "subsString={}\n",
    "for i in constants.split(\";\"):\n",
    "    nme=i.split(\",\")[0]\n",
    "    val=i.split(\",\")[1]\n",
    "    subsString[globals()[nme]]=float(val)\n",
    "for j in range(0,length):\n",
    "    for i in constants.split(\";\"):\n",
    "        nme=i.split(\",\")[0]\n",
    "        val=i.split(\",\")[1]\n",
    "        subsString[globals()[nme]]=float(val)\n",
    "    for i in variables.split(\";\"):\n",
    "        nme=i.split(\",\")[0]\n",
    "        subsString[globals()[nme]]=float(globals()[nme+\"list\"].split(\",\")[j])\n",
    "    Errors.append(expressionError.subs(subsString))\n",
    "    subsString={}\n",
    "print(Errors)\n",
    "print(sum(Errors)/len(Errors))"
   ]
  },
  {
   "cell_type": "code",
   "execution_count": null,
   "metadata": {},
   "outputs": [],
   "source": [
    "from numpy import *\n",
    "formula=\"x/y\"\n",
    "Results=[]\n",
    "Errors=[]\n",
    "for i in Variables:\n",
    "    a=i.split(\",\")\n",
    "    globals()[a[0]]=float(a[1])\n",
    "for i in range(0,len(Variables)):\n",
    "    Results.append(eval(formula))\n",
    "print(Results)"
   ]
  },
  {
   "cell_type": "code",
   "execution_count": 34,
   "metadata": {},
   "outputs": [
    {
     "data": {
      "text/latex": [
       "$\\displaystyle \\frac{1}{y + 3.0}$"
      ],
      "text/plain": [
       "1/(y + 3.0)"
      ]
     },
     "execution_count": 34,
     "metadata": {},
     "output_type": "execute_result"
    }
   ],
   "source": [
    "formula.diff(x)"
   ]
  },
  {
   "cell_type": "code",
   "execution_count": 17,
   "metadata": {},
   "outputs": [
    {
     "name": "stdout",
     "output_type": "stream",
     "text": [
      "[6.371999999999999e-11, 3.1859999999999994e-11, 2.1239999999999996e-11, 1.5929999999999997e-11, 1.2743999999999998e-11]\n"
     ]
    }
   ],
   "source": [
    "epsilon=8.85*(10**-12)\n",
    "t=2*(10**-3)\n",
    "C=[]\n",
    "A=144*(10**-4)\n",
    "D=[t,2*t,3*t,4*t,5*t]\n",
    "for d in D:\n",
    "    C.append((A*epsilon/d))\n",
    "print(C)"
   ]
  },
  {
   "cell_type": "code",
   "execution_count": 21,
   "metadata": {},
   "outputs": [
    {
     "name": "stdout",
     "output_type": "stream",
     "text": [
      "[0.6049689075214236, 0.4304363489604289, 0.27932504084721727, 0.15817844382698504, 0.07047863789176152]\n"
     ]
    }
   ],
   "source": [
    "from numpy import *\n",
    "VR=[]\n",
    "VO=2\n",
    "f=3.373*(10**3)\n",
    "R=470*(10**3)\n",
    "for i in range(0,len(C)):\n",
    "    a=VO*2*pi*f*R*C[i]\n",
    "    b=sqrt(1 + 4*pi*pi*f*f*R*R*C[i]*C[i])\n",
    "    VR.append(a/b)\n",
    "print(VR)"
   ]
  },
  {
   "cell_type": "code",
   "execution_count": 23,
   "metadata": {},
   "outputs": [
    {
     "name": "stdout",
     "output_type": "stream",
     "text": [
      "[3.1859999999999994e-11, 2.2124999999999998e-11, 1.4159999999999998e-11, 7.964999999999998e-12, 3.5399999999999995e-12]\n"
     ]
    }
   ],
   "source": [
    "epsilon=8.85*(10**-12)\n",
    "t=2*(10**-3)\n",
    "C=[]\n",
    "A=[144*(10**-4),100*(10**-4),64*(10**-4),36*(10**-4),16*(10**-4)]\n",
    "D=2*t\n",
    "for a in A:\n",
    "    C.append((a*epsilon/D))\n",
    "print(C)"
   ]
  },
  {
   "cell_type": "code",
   "execution_count": 20,
   "metadata": {},
   "outputs": [
    {
     "name": "stdout",
     "output_type": "stream",
     "text": [
      "[0.6229737221620073, 0.4439140655650782, 0.2883291162545475, 0.16334966729339667, 0.07279495268427935]\n"
     ]
    }
   ],
   "source": [
    "from numpy import *\n",
    "VR=[]\n",
    "VO=2\n",
    "f=3.484*(10**3)\n",
    "R=470*(10**3)\n",
    "for i in range(0,len(C)):\n",
    "    a=VO*2*pi*f*R*C[i]\n",
    "    b=sqrt(1 + 4*pi*pi*f*f*R*R*C[i]*C[i])\n",
    "    VR.append(a/b)\n",
    "print(VR)"
   ]
  },
  {
   "cell_type": "code",
   "execution_count": null,
   "metadata": {},
   "outputs": [],
   "source": []
  }
 ],
 "metadata": {
  "kernelspec": {
   "display_name": "Python 3",
   "language": "python",
   "name": "python3"
  },
  "language_info": {
   "codemirror_mode": {
    "name": "ipython",
    "version": 3
   },
   "file_extension": ".py",
   "mimetype": "text/x-python",
   "name": "python",
   "nbconvert_exporter": "python",
   "pygments_lexer": "ipython3",
   "version": "3.7.4"
  }
 },
 "nbformat": 4,
 "nbformat_minor": 2
}
